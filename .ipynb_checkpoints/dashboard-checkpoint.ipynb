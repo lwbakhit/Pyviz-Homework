{
 "cells": [
  {
   "cell_type": "markdown",
   "metadata": {},
   "source": [
    "# San Francisco Rental Prices Dashboard\n",
    "\n",
    "In this notebook, you will compile the visualizations from the previous analysis into functions that can be used for a Panel dashboard."
   ]
  },
  {
   "cell_type": "code",
   "execution_count": 37,
   "metadata": {},
   "outputs": [],
   "source": [
    "# imports\n",
    "import panel as pn\n",
    "pn.extension('plotly')\n",
    "import plotly.express as px\n",
    "import pandas as pd\n",
    "import hvplot.pandas\n",
    "import matplotlib.pyplot as plt\n",
    "import os\n",
    "from pathlib import Path\n",
    "from dotenv import load_dotenv"
   ]
  },
  {
   "cell_type": "code",
   "execution_count": 38,
   "metadata": {},
   "outputs": [],
   "source": [
    "# Read the Mapbox API key\n",
    "load_dotenv()\n",
    "mapbox_token = os.getenv(\"MAPBOX_API_KEY\")"
   ]
  },
  {
   "cell_type": "markdown",
   "metadata": {},
   "source": [
    "# Import Data"
   ]
  },
  {
   "cell_type": "code",
   "execution_count": null,
   "metadata": {},
   "outputs": [],
   "source": [
    "# Import the CSVs to Pandas DataFrames\n",
    "file_path = Path(\"Data/sfo_neighborhoods_census_data.csv\")\n",
    "sfo_data = pd.read_csv(file_path, index_col=\"year\")\n",
    "\n",
    "file_path = Path(\"Data/neighborhoods_coordinates.csv\")\n",
    "df_neighborhood_locations = pd.read_csv(file_path)"
   ]
  },
  {
   "cell_type": "code",
   "execution_count": 69,
   "metadata": {},
   "outputs": [],
   "source": [
    "# Bring over functions defined in Rental Analysis\n",
    "sfo_data_year = sfo_data[\"housing_units\"]\n",
    "sfo_data_year_grp = sfo_data_year.sort_values()\n",
    "sfo_avg = sfo_data_year_grp.groupby('year').mean()\n",
    "sfo_group = sfo_data.groupby(['year', 'neighborhood']).mean()\n",
    "sfo_group_avg = sfo_group.groupby(['neighborhood']).mean()\n",
    "sfo_group_avg_plt = sfo_group_avg.sort_values('sale_price_sqr_foot', ascending=False)\n",
    "df_neighborhood_locations_avg = df_neighborhood_locations.groupby(['Neighborhood']).mean()\n",
    "joined_df = pd.concat([df_neighborhood_locations_avg, sfo_group_avg], axis='columns', join='inner')"
   ]
  },
  {
   "cell_type": "markdown",
   "metadata": {},
   "source": [
    "- - -"
   ]
  },
  {
   "cell_type": "markdown",
   "metadata": {},
   "source": [
    "## Panel Visualizations\n",
    "\n",
    "In this section, you will copy the code for each plot type from your analysis notebook and place it into separate functions that Panel can use to create panes for the dashboard. \n",
    "\n",
    "These functions will convert the plot object to a Panel pane.\n",
    "\n",
    "Be sure to include any DataFrame transformation/manipulation code required along with the plotting code.\n",
    "\n",
    "Return a Panel pane object from each function that can be used to build the dashboard.\n",
    "\n",
    "Note: Remove any `.show()` lines from the code. We want to return the plots instead of showing them. The Panel dashboard will then display the plots."
   ]
  },
  {
   "cell_type": "code",
   "execution_count": 70,
   "metadata": {},
   "outputs": [
    {
     "data": {
      "text/plain": [
       "<function __main__.async-def-wrapper.<locals>.housing_units_per_year()>"
      ]
     },
     "execution_count": 70,
     "metadata": {},
     "output_type": "execute_result"
    }
   ],
   "source": [
    "# Define Panel Visualization Functions\n",
    "def housing_units_per_year():\n",
    "    housing_units_per_year = sfo_data.groupby('year')['housing_units'].mean().hvplot.bar(xlabel=\"Year\", ylabel=\"Housing Units\",ylim=(370000,390000), title=\"Housing Units Per Year\")\n",
    "return housing_units_per_year"
   ]
  },
  {
   "cell_type": "code",
   "execution_count": 71,
   "metadata": {},
   "outputs": [
    {
     "data": {
      "text/plain": [
       "<function __main__.async-def-wrapper.<locals>.average_gross_rent()>"
      ]
     },
     "execution_count": 71,
     "metadata": {},
     "output_type": "execute_result"
    }
   ],
   "source": [
    "def average_gross_rent():\n",
    "    average_gross_rent = sfo_data.groupby('year')['gross_rent'].mean().hvplot.line(xlabel='Year', ylabel='Gross Rent', title='Average Gross Rent in San Francisco')\n",
    "return average_gross_rent"
   ]
  },
  {
   "cell_type": "code",
   "execution_count": 72,
   "metadata": {},
   "outputs": [
    {
     "data": {
      "text/plain": [
       "<function __main__.async-def-wrapper.<locals>.average_sales_price()>"
      ]
     },
     "execution_count": 72,
     "metadata": {},
     "output_type": "execute_result"
    }
   ],
   "source": [
    "def average_sales_price():\n",
    "    \"\"\"Average Sales Price Per Year.\"\"\"\n",
    "    average_sales_price = sfo_data.groupby('year')['sale_price_sqr_foot'].mean().hvplot.line(xlabel='Year', ylabel='Average Sales Price', title='Average Sale Price Per Year')\n",
    "return average_sales_price"
   ]
  },
  {
   "cell_type": "code",
   "execution_count": 79,
   "metadata": {},
   "outputs": [
    {
     "data": {
      "text/plain": [
       "<function __main__.async-def-wrapper.<locals>.average_price_by_neighborhood()>"
      ]
     },
     "execution_count": 79,
     "metadata": {},
     "output_type": "execute_result"
    }
   ],
   "source": [
    "def average_price_by_neighborhood():\n",
    "    \"\"\"Average Prices by Neighborhood.\"\"\"\n",
    "    average_price_by_neighborhood = sfo_group_avg.hvplot.line(x='year', y='sale_price_sqr_foot', groupby='neighborhood')\n",
    "return average_price_by_neighborhood"
   ]
  },
  {
   "cell_type": "code",
   "execution_count": 80,
   "metadata": {},
   "outputs": [
    {
     "data": {
      "text/plain": [
       "<function __main__.async-def-wrapper.<locals>.top_most_expensive_neighborhoods()>"
      ]
     },
     "execution_count": 80,
     "metadata": {},
     "output_type": "execute_result"
    }
   ],
   "source": [
    "def top_most_expensive_neighborhoods():\n",
    "    \"\"\"Top 10 Most Expensive Neighborhoods.\"\"\"\n",
    "    top_most_expensive_neighborhoods = sfo_group_avg_plt.head(10).plot(kind='bar', y='sale_price_sqr_foot', title=\"Top 10 Most Expensive Neighborhoods.\")\n",
    "return top_most_expensive_neighborhoods"
   ]
  },
  {
   "cell_type": "code",
   "execution_count": 81,
   "metadata": {},
   "outputs": [
    {
     "data": {
      "text/plain": [
       "<function __main__.async-def-wrapper.<locals>.parallel_coordinates()>"
      ]
     },
     "execution_count": 81,
     "metadata": {},
     "output_type": "execute_result"
    }
   ],
   "source": [
    "def parallel_coordinates():\n",
    "    \"\"\"Parallel Coordinates Plot.\"\"\"\n",
    "    parallel_coordinates = px.parallel_coordinates(sfo_group_avg_plt, color='sale_price_sqr_foot', title=\"Parallel Coordinates Plot.\")\n",
    "return parallel_coordinates"
   ]
  },
  {
   "cell_type": "code",
   "execution_count": 82,
   "metadata": {},
   "outputs": [
    {
     "data": {
      "text/plain": [
       "<function __main__.async-def-wrapper.<locals>.parallel_categories()>"
      ]
     },
     "execution_count": 82,
     "metadata": {},
     "output_type": "execute_result"
    }
   ],
   "source": [
    "def parallel_categories():\n",
    "    \"\"\"Parallel Categories Plot.\"\"\"\n",
    "    parallel_categories = px.parallel_categories(\n",
    "    sfo_group_avg_plt,\n",
    "    dimensions=[\"sale_price_sqr_foot\", \"housing_units\", \"gross_rent\"],\n",
    "    color=\"sale_price_sqr_foot\",\n",
    "    color_continuous_scale=px.colors.sequential.Inferno,\n",
    "    labels={\n",
    "        \"sale_price_sqr_foot\": \"Sale Price/sqft\",\n",
    "        \"housing_units\": \"Housing Units\",\n",
    "        \"gross_rent\": \"Gross Rent\",\n",
    "    },\n",
    ")\n",
    "return parallel_categories"
   ]
  },
  {
   "cell_type": "code",
   "execution_count": 83,
   "metadata": {},
   "outputs": [
    {
     "data": {
      "text/plain": [
       "<function __main__.async-def-wrapper.<locals>.neighborhood_map()>"
      ]
     },
     "execution_count": 83,
     "metadata": {},
     "output_type": "execute_result"
    }
   ],
   "source": [
    "def neighborhood_map():\n",
    "    \"\"\"Neighborhood Map\"\"\"\n",
    "    neighborhood_map = px.scatter_mapbox(joined_df, lat=\"Lat\", lon=\"Lon\", size=\"gross_rent\", color=\"gross_rent\")\n",
    "return neighborhood_map"
   ]
  },
  {
   "cell_type": "markdown",
   "metadata": {},
   "source": [
    "## Panel Dashboard\n",
    "\n",
    "In this section, you will combine all of the plots into a single dashboard view using Panel. Be creative with your dashboard design!"
   ]
  },
  {
   "cell_type": "code",
   "execution_count": 91,
   "metadata": {},
   "outputs": [
    {
     "data": {
      "application/vnd.holoviews_exec.v0+json": "",
      "text/html": [
       "<div id='1150'>\n",
       "\n",
       "\n",
       "\n",
       "\n",
       "\n",
       "  <div class=\"bk-root\" id=\"332cc1f0-8a76-4fdd-b802-89e2b4400672\" data-root-id=\"1150\"></div>\n",
       "</div>\n",
       "<script type=\"application/javascript\">(function(root) {\n",
       "  function embed_document(root) {\n",
       "  var docs_json = {\"48e45bcd-3dd2-4cfd-830b-cecd710840d2\":{\"roots\":{\"references\":[{\"attributes\":{\"margin\":[0,0,0,0],\"tabs\":[{\"id\":\"1152\"},{\"id\":\"1154\"},{\"id\":\"1156\"},{\"id\":\"1158\"},{\"id\":\"1160\"},{\"id\":\"1162\"},{\"id\":\"1164\"}]},\"id\":\"1150\",\"type\":\"Tabs\"},{\"attributes\":{\"margin\":[5,5,5,5],\"name\":\"Housing Units per Year\"},\"id\":\"1151\",\"type\":\"panel.models.markup.HTML\"},{\"attributes\":{\"child\":{\"id\":\"1157\"},\"name\":\"Most Expensive Neighborhoods\",\"title\":\"Most Expensive Neighborhoods\"},\"id\":\"1158\",\"type\":\"Panel\"},{\"attributes\":{\"child\":{\"id\":\"1163\"},\"name\":\"Neighborhood Map\",\"title\":\"Neighborhood Map\"},\"id\":\"1164\",\"type\":\"Panel\"},{\"attributes\":{\"margin\":[5,5,5,5],\"name\":\"Average Price by Neighborhood\"},\"id\":\"1155\",\"type\":\"panel.models.markup.HTML\"},{\"attributes\":{\"margin\":[5,5,5,5],\"name\":\"Neighborhood Map\"},\"id\":\"1163\",\"type\":\"panel.models.markup.HTML\"},{\"attributes\":{\"margin\":[5,5,5,5],\"name\":\"Most Expensive Neighborhoods\"},\"id\":\"1157\",\"type\":\"panel.models.markup.HTML\"},{\"attributes\":{\"client_comm_id\":\"d8e2fe3d03e74d2f8ce31cca96d14a84\",\"comm_id\":\"baf377a5d10f4b1698c9a6b243c26e78\",\"plot_id\":\"1150\"},\"id\":\"1165\",\"type\":\"panel.models.comm_manager.CommManager\"},{\"attributes\":{\"child\":{\"id\":\"1159\"},\"name\":\"Parallel Coordinates\",\"title\":\"Parallel Coordinates\"},\"id\":\"1160\",\"type\":\"Panel\"},{\"attributes\":{\"margin\":[5,5,5,5],\"name\":\"Parallel Coordinates\"},\"id\":\"1159\",\"type\":\"panel.models.markup.HTML\"},{\"attributes\":{\"child\":{\"id\":\"1155\"},\"name\":\"Average Price by Neighborhood\",\"title\":\"Average Price by Neighborhood\"},\"id\":\"1156\",\"type\":\"Panel\"},{\"attributes\":{\"child\":{\"id\":\"1161\"},\"name\":\"Parallel Categories\",\"title\":\"Parallel Categories\"},\"id\":\"1162\",\"type\":\"Panel\"},{\"attributes\":{\"margin\":[5,5,5,5],\"name\":\"Parallel Categories\"},\"id\":\"1161\",\"type\":\"panel.models.markup.HTML\"},{\"attributes\":{\"child\":{\"id\":\"1151\"},\"name\":\"Housing Units per Year\",\"title\":\"Housing Units per Year\"},\"id\":\"1152\",\"type\":\"Panel\"},{\"attributes\":{\"margin\":[5,5,5,5],\"name\":\"Average Gross Rent\"},\"id\":\"1153\",\"type\":\"panel.models.markup.HTML\"},{\"attributes\":{\"child\":{\"id\":\"1153\"},\"name\":\"Average Gross Rent\",\"title\":\"Average Gross Rent\"},\"id\":\"1154\",\"type\":\"Panel\"}],\"root_ids\":[\"1150\",\"1165\"]},\"title\":\"Bokeh Application\",\"version\":\"2.1.1\"}};\n",
       "  var render_items = [{\"docid\":\"48e45bcd-3dd2-4cfd-830b-cecd710840d2\",\"root_ids\":[\"1150\"],\"roots\":{\"1150\":\"332cc1f0-8a76-4fdd-b802-89e2b4400672\"}}];\n",
       "  root.Bokeh.embed.embed_items_notebook(docs_json, render_items);\n",
       "  }\n",
       "if (root.Bokeh !== undefined) {\n",
       "    embed_document(root);\n",
       "  } else {\n",
       "    var attempts = 0;\n",
       "    var timer = setInterval(function(root) {\n",
       "      if (root.Bokeh !== undefined) {\n",
       "        clearInterval(timer);\n",
       "        embed_document(root);\n",
       "      } else if (document.readyState == \"complete\") {\n",
       "        attempts++;\n",
       "        if (attempts > 100) {\n",
       "          clearInterval(timer);\n",
       "          console.log(\"Bokeh: ERROR: Unable to run BokehJS code because BokehJS library is missing\");\n",
       "        }\n",
       "      }\n",
       "    }, 10, root)\n",
       "  }\n",
       "})(window);</script>"
      ],
      "text/plain": [
       "Tabs\n",
       "    [0] Str(None, name='Housing Units per Year')\n",
       "    [1] Str(None, name='Average Gross Rent')\n",
       "    [2] Str(None, name='Average Price b...)\n",
       "    [3] Str(None, name='Most Expensive N...)\n",
       "    [4] Str(None, name='Parallel Coordinates')\n",
       "    [5] Str(None, name='Parallel Categories')\n",
       "    [6] Str(None, name='Neighborhood Map')"
      ]
     },
     "execution_count": 91,
     "metadata": {
      "application/vnd.holoviews_exec.v0+json": {
       "id": "1150"
      }
     },
     "output_type": "execute_result"
    },
    {
     "data": {
      "image/png": "[encoded data removed]",
      "text/plain": [
       "<Figure size 432x288 with 1 Axes>"
      ]
     },
     "metadata": {
      "needs_background": "light"
     },
     "output_type": "display_data"
    }
   ],
   "source": [
    "sfo_dashboard = pn.Tabs(\n",
    "    (\"Housing Units per Year\", housing_units_per_year()),\n",
    "    (\"Average Gross Rent\", average_gross_rent()),\n",
    "    (\"Average Price by Neighborhood\", average_price_by_neighborhood()),\n",
    "    (\"Most Expensive Neighborhoods\", top_most_expensive_neighborhoods()),\n",
    "    (\"Parallel Coordinates\", parallel_coordinates()),\n",
    "    (\"Parallel Categories\", parallel_categories()),\n",
    "    (\"Neighborhood Map\", neighborhood_map()))\n",
    "sfo_dashboard"
   ]
  },
  {
   "cell_type": "markdown",
   "metadata": {},
   "source": [
    "## Serve the Panel Dashboard"
   ]
  },
  {
   "cell_type": "code",
   "execution_count": 92,
   "metadata": {},
   "outputs": [
    {
     "data": {
      "application/vnd.holoviews_exec.v0+json": "",
      "text/html": [
       "<div id='1167'>\n",
       "\n",
       "\n",
       "\n",
       "\n",
       "\n",
       "  <div class=\"bk-root\" id=\"30455a99-ea69-48e8-9d19-3674058f7c92\" data-root-id=\"1167\"></div>\n",
       "</div>\n",
       "<script type=\"application/javascript\">(function(root) {\n",
       "  function embed_document(root) {\n",
       "  var docs_json = {\"07886f5a-d187-46d2-a166-1f16cb24e553\":{\"roots\":{\"references\":[{\"attributes\":{\"child\":{\"id\":\"1178\"},\"name\":\"Parallel Categories\",\"title\":\"Parallel Categories\"},\"id\":\"1179\",\"type\":\"Panel\"},{\"attributes\":{\"margin\":[5,5,5,5],\"name\":\"Most Expensive Neighborhoods\"},\"id\":\"1174\",\"type\":\"panel.models.markup.HTML\"},{\"attributes\":{\"client_comm_id\":\"b958f4b1eeb0413789fb8a330b26480c\",\"comm_id\":\"902921b2c22a4dde9364d028db6d1b24\",\"plot_id\":\"1167\"},\"id\":\"1182\",\"type\":\"panel.models.comm_manager.CommManager\"},{\"attributes\":{\"child\":{\"id\":\"1168\"},\"name\":\"Housing Units per Year\",\"title\":\"Housing Units per Year\"},\"id\":\"1169\",\"type\":\"Panel\"},{\"attributes\":{\"margin\":[5,5,5,5],\"name\":\"Parallel Categories\"},\"id\":\"1178\",\"type\":\"panel.models.markup.HTML\"},{\"attributes\":{\"child\":{\"id\":\"1172\"},\"name\":\"Average Price by Neighborhood\",\"title\":\"Average Price by Neighborhood\"},\"id\":\"1173\",\"type\":\"Panel\"},{\"attributes\":{\"margin\":[5,5,5,5],\"name\":\"Average Price by Neighborhood\"},\"id\":\"1172\",\"type\":\"panel.models.markup.HTML\"},{\"attributes\":{\"margin\":[5,5,5,5],\"name\":\"Housing Units per Year\"},\"id\":\"1168\",\"type\":\"panel.models.markup.HTML\"},{\"attributes\":{\"child\":{\"id\":\"1176\"},\"name\":\"Parallel Coordinates\",\"title\":\"Parallel Coordinates\"},\"id\":\"1177\",\"type\":\"Panel\"},{\"attributes\":{\"margin\":[5,5,5,5],\"name\":\"Average Gross Rent\"},\"id\":\"1170\",\"type\":\"panel.models.markup.HTML\"},{\"attributes\":{\"child\":{\"id\":\"1170\"},\"name\":\"Average Gross Rent\",\"title\":\"Average Gross Rent\"},\"id\":\"1171\",\"type\":\"Panel\"},{\"attributes\":{\"child\":{\"id\":\"1174\"},\"name\":\"Most Expensive Neighborhoods\",\"title\":\"Most Expensive Neighborhoods\"},\"id\":\"1175\",\"type\":\"Panel\"},{\"attributes\":{\"margin\":[5,5,5,5],\"name\":\"Parallel Coordinates\"},\"id\":\"1176\",\"type\":\"panel.models.markup.HTML\"},{\"attributes\":{\"margin\":[5,5,5,5],\"name\":\"Neighborhood Map\"},\"id\":\"1180\",\"type\":\"panel.models.markup.HTML\"},{\"attributes\":{\"child\":{\"id\":\"1180\"},\"name\":\"Neighborhood Map\",\"title\":\"Neighborhood Map\"},\"id\":\"1181\",\"type\":\"Panel\"},{\"attributes\":{\"margin\":[0,0,0,0],\"tabs\":[{\"id\":\"1169\"},{\"id\":\"1171\"},{\"id\":\"1173\"},{\"id\":\"1175\"},{\"id\":\"1177\"},{\"id\":\"1179\"},{\"id\":\"1181\"}]},\"id\":\"1167\",\"type\":\"Tabs\"}],\"root_ids\":[\"1167\",\"1182\"]},\"title\":\"Bokeh Application\",\"version\":\"2.1.1\"}};\n",
       "  var render_items = [{\"docid\":\"07886f5a-d187-46d2-a166-1f16cb24e553\",\"root_ids\":[\"1167\"],\"roots\":{\"1167\":\"30455a99-ea69-48e8-9d19-3674058f7c92\"}}];\n",
       "  root.Bokeh.embed.embed_items_notebook(docs_json, render_items);\n",
       "  }\n",
       "if (root.Bokeh !== undefined) {\n",
       "    embed_document(root);\n",
       "  } else {\n",
       "    var attempts = 0;\n",
       "    var timer = setInterval(function(root) {\n",
       "      if (root.Bokeh !== undefined) {\n",
       "        clearInterval(timer);\n",
       "        embed_document(root);\n",
       "      } else if (document.readyState == \"complete\") {\n",
       "        attempts++;\n",
       "        if (attempts > 100) {\n",
       "          clearInterval(timer);\n",
       "          console.log(\"Bokeh: ERROR: Unable to run BokehJS code because BokehJS library is missing\");\n",
       "        }\n",
       "      }\n",
       "    }, 10, root)\n",
       "  }\n",
       "})(window);</script>"
      ],
      "text/plain": [
       "Tabs\n",
       "    [0] Str(None, name='Housing Units per Year')\n",
       "    [1] Str(None, name='Average Gross Rent')\n",
       "    [2] Str(None, name='Average Price b...)\n",
       "    [3] Str(None, name='Most Expensive N...)\n",
       "    [4] Str(None, name='Parallel Coordinates')\n",
       "    [5] Str(None, name='Parallel Categories')\n",
       "    [6] Str(None, name='Neighborhood Map')"
      ]
     },
     "execution_count": 92,
     "metadata": {
      "application/vnd.holoviews_exec.v0+json": {
       "id": "1167"
      }
     },
     "output_type": "execute_result"
    }
   ],
   "source": [
    "sfo_dashboard.servable()"
   ]
  },
  {
   "cell_type": "code",
   "execution_count": null,
   "metadata": {},
   "outputs": [],
   "source": []
  }
 ],
 "metadata": {
  "file_extension": ".py",
  "kernelspec": {
   "display_name": "Python 3",
   "language": "python",
   "name": "python3"
  },
  "language_info": {
   "codemirror_mode": {
    "name": "ipython",
    "version": 3
   },
   "file_extension": ".py",
   "mimetype": "text/x-python",
   "name": "python",
   "nbconvert_exporter": "python",
   "pygments_lexer": "ipython3",
   "version": "3.7.7"
  },
  "mimetype": "text/x-python",
  "name": "python",
  "npconvert_exporter": "python",
  "pygments_lexer": "ipython3",
  "version": 3
 },
 "nbformat": 4,
 "nbformat_minor": 4
}
